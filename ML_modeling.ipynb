{
 "cells": [
  {
   "cell_type": "code",
   "execution_count": 12,
   "id": "0de22d49",
   "metadata": {},
   "outputs": [],
   "source": [
    "import pandas as pd\n",
    "import matplotlib.pyplot as plt\n",
    "import seaborn as sn\n",
    "import numpy as np\n",
    "import sweetviz\n",
    "from sklearn.model_selection import train_test_split\n",
    "\n",
    "df = pd.read_csv('/Users/divyeshpatil/Desktop/projects/telco-customer-churn.csv')\n",
    "\n"
   ]
  },
  {
   "cell_type": "code",
   "execution_count": 13,
   "id": "fa4b27ba",
   "metadata": {},
   "outputs": [],
   "source": [
    "updated_df = df.drop('customerID',axis=1)"
   ]
  },
  {
   "cell_type": "code",
   "execution_count": 14,
   "id": "75b45596",
   "metadata": {},
   "outputs": [
    {
     "name": "stdout",
     "output_type": "stream",
     "text": [
      "Label Encoder Transformation\n",
      "gender  :  [0 1]  =  ['Female' 'Male']\n",
      "Partner  :  [1 0]  =  ['Yes' 'No']\n",
      "Dependents  :  [0 1]  =  ['No' 'Yes']\n",
      "PhoneService  :  [0 1]  =  ['No' 'Yes']\n",
      "MultipleLines  :  [1 0 2]  =  ['No phone service' 'No' 'Yes']\n",
      "InternetService  :  [0 1 2]  =  ['DSL' 'Fiber optic' 'No']\n",
      "OnlineSecurity  :  [0 2 1]  =  ['No' 'Yes' 'No internet service']\n",
      "OnlineBackup  :  [2 0 1]  =  ['Yes' 'No' 'No internet service']\n",
      "DeviceProtection  :  [0 2 1]  =  ['No' 'Yes' 'No internet service']\n",
      "TechSupport  :  [0 2 1]  =  ['No' 'Yes' 'No internet service']\n",
      "StreamingTV  :  [0 2 1]  =  ['No' 'Yes' 'No internet service']\n",
      "StreamingMovies  :  [0 2 1]  =  ['No' 'Yes' 'No internet service']\n",
      "Contract  :  [0 1 2]  =  ['Month-to-month' 'One year' 'Two year']\n",
      "PaperlessBilling  :  [1 0]  =  ['Yes' 'No']\n",
      "PaymentMethod  :  [2 3 0 1]  =  ['Electronic check' 'Mailed check' 'Bank transfer (automatic)'\n",
      " 'Credit card (automatic)']\n",
      "TotalCharges  :  [2505 1466  157 ... 2994 2660 5407]  =  ['29.85' '1889.5' '108.15' ... '346.45' '306.6' '6844.5']\n",
      "Churn  :  [0 1]  =  ['No' 'Yes']\n"
     ]
    }
   ],
   "source": [
    "from sklearn.preprocessing import LabelEncoder\n",
    "le = LabelEncoder()\n",
    "\n",
    "new_df = updated_df.copy(deep = True)\n",
    "text_data_features = [i for i in list(updated_df.columns) if i not in list(updated_df.describe().columns)]\n",
    "\n",
    "print('Label Encoder Transformation')\n",
    "for i in text_data_features :\n",
    "    new_df[i] = le.fit_transform(new_df[i])\n",
    "    print(i,' : ',new_df[i].unique(),' = ',le.inverse_transform(new_df[i].unique()))"
   ]
  },
  {
   "cell_type": "code",
   "execution_count": 15,
   "id": "0fcb09af",
   "metadata": {},
   "outputs": [],
   "source": [
    "y = new_df.Churn\n",
    "X = new_df.drop('Churn', axis=1)\n",
    "X_train, X_test, y_train, y_test = train_test_split(X, y,test_size=0.2)"
   ]
  },
  {
   "cell_type": "code",
   "execution_count": 16,
   "id": "c890b92d",
   "metadata": {
    "raw_mimetype": "text/x-python"
   },
   "outputs": [],
   "source": [
    "from sklearn.naive_bayes import GaussianNB\n",
    "\n",
    "gnb = GaussianNB()\n",
    "gnb.fit(X_train, y_train)\n",
    "y_pred_NB = gnb.predict(X_test)"
   ]
  },
  {
   "cell_type": "code",
   "execution_count": 17,
   "id": "dc98e652",
   "metadata": {},
   "outputs": [
    {
     "name": "stderr",
     "output_type": "stream",
     "text": [
      "/Users/divyeshpatil/opt/anaconda3/lib/python3.9/site-packages/sklearn/linear_model/_logistic.py:444: ConvergenceWarning: lbfgs failed to converge (status=1):\n",
      "STOP: TOTAL NO. of ITERATIONS REACHED LIMIT.\n",
      "\n",
      "Increase the number of iterations (max_iter) or scale the data as shown in:\n",
      "    https://scikit-learn.org/stable/modules/preprocessing.html\n",
      "Please also refer to the documentation for alternative solver options:\n",
      "    https://scikit-learn.org/stable/modules/linear_model.html#logistic-regression\n",
      "  n_iter_i = _check_optimize_result(\n"
     ]
    }
   ],
   "source": [
    "from sklearn.linear_model import LogisticRegression\n",
    "\n",
    "LR = LogisticRegression(random_state=0).fit(X_train, y_train)\n",
    "y_pred_LR = LR.predict(X_test)"
   ]
  },
  {
   "cell_type": "code",
   "execution_count": 7,
   "id": "67edce5f",
   "metadata": {},
   "outputs": [],
   "source": [
    "from sklearn.ensemble import RandomForestClassifier\n",
    "from sklearn.datasets import make_classification\n",
    "RF = RandomForestClassifier(random_state=0)\n",
    "RF.fit(X_train, y_train)\n",
    "y_pred_RF = RF.predict(X_test)"
   ]
  },
  {
   "cell_type": "code",
   "execution_count": 8,
   "id": "d002e22b",
   "metadata": {},
   "outputs": [],
   "source": [
    "import xgboost as xgb\n",
    "xgb_c1 = xgb.XGBClassifier()\n",
    "xgb_c1.fit(X_train, y_train)\n",
    "y_pred_XGB = xgb_c1.predict(X_test)"
   ]
  },
  {
   "cell_type": "code",
   "execution_count": 9,
   "id": "d6471495",
   "metadata": {},
   "outputs": [],
   "source": [
    "from sklearn.metrics import accuracy_score, precision_score, recall_score, f1_score\n",
    "\n",
    "scores = pd.DataFrame(columns=['accuracy','precision','recal','f1']\n",
    "                      ,index = ['Naive Baves',\n",
    "                                'Logistic Regression',\n",
    "                                'Random Forests',\n",
    "                                'XGBoost '])"
   ]
  },
  {
   "cell_type": "code",
   "execution_count": 10,
   "id": "423b3fe2",
   "metadata": {},
   "outputs": [],
   "source": [
    "scores.loc['Naive Bayes','accuracy'] = accuracy_score(y_test, y_pred_NB)\n",
    "scores.loc['Naive Bayes','precision'] = precision_score(y_test, y_pred_NB)\n",
    "scores.loc ['Naive Bayes','recal'] = recall_score(y_test, y_pred_NB)\n",
    "scores.loc ['Naive Bayes','f1'] = f1_score(y_test, y_pred_NB)\n",
    "\n",
    "scores.loc['Logestic Regression','accuracy'] = accuracy_score(y_test, y_pred_LR)\n",
    "scores.loc['Logestic Regression','precision'] = precision_score(y_test, y_pred_LR)\n",
    "scores.loc ['Logestic Regression','recal'] = recall_score(y_test, y_pred_LR)\n",
    "scores.loc ['Logestic Regression','f1'] = f1_score(y_test, y_pred_LR)\n",
    "\n",
    "scores.loc['Random Forest','accuracy'] = accuracy_score(y_test, y_pred_RF)\n",
    "scores.loc['Random Forest','precision'] = precision_score(y_test, y_pred_RF)\n",
    "scores.loc ['Random Forest','recal'] = recall_score(y_test, y_pred_RF)\n",
    "scores.loc ['Random Forest','f1'] = f1_score(y_test, y_pred_RF)\n",
    "\n",
    "scores.loc['XGBoost','accuracy'] = accuracy_score(y_test, y_pred_XGB)\n",
    "scores.loc['XGBoost','precision'] = precision_score(y_test, y_pred_XGB)\n",
    "scores.loc ['XGBoost','recal'] = recall_score(y_test, y_pred_XGB)\n",
    "scores.loc ['XGBoost','f1'] = f1_score(y_test, y_pred_XGB)\n",
    "\n",
    "\n",
    "\n",
    "\n"
   ]
  },
  {
   "cell_type": "code",
   "execution_count": 18,
   "id": "6e79aecd",
   "metadata": {},
   "outputs": [
    {
     "data": {
      "text/html": [
       "<div>\n",
       "<style scoped>\n",
       "    .dataframe tbody tr th:only-of-type {\n",
       "        vertical-align: middle;\n",
       "    }\n",
       "\n",
       "    .dataframe tbody tr th {\n",
       "        vertical-align: top;\n",
       "    }\n",
       "\n",
       "    .dataframe thead th {\n",
       "        text-align: right;\n",
       "    }\n",
       "</style>\n",
       "<table border=\"1\" class=\"dataframe\">\n",
       "  <thead>\n",
       "    <tr style=\"text-align: right;\">\n",
       "      <th></th>\n",
       "      <th>accuracy</th>\n",
       "      <th>precision</th>\n",
       "      <th>recal</th>\n",
       "      <th>f1</th>\n",
       "    </tr>\n",
       "  </thead>\n",
       "  <tbody>\n",
       "    <tr>\n",
       "      <th>Naive Baves</th>\n",
       "      <td>NaN</td>\n",
       "      <td>NaN</td>\n",
       "      <td>NaN</td>\n",
       "      <td>NaN</td>\n",
       "    </tr>\n",
       "    <tr>\n",
       "      <th>Logistic Regression</th>\n",
       "      <td>NaN</td>\n",
       "      <td>NaN</td>\n",
       "      <td>NaN</td>\n",
       "      <td>NaN</td>\n",
       "    </tr>\n",
       "    <tr>\n",
       "      <th>Random Forests</th>\n",
       "      <td>NaN</td>\n",
       "      <td>NaN</td>\n",
       "      <td>NaN</td>\n",
       "      <td>NaN</td>\n",
       "    </tr>\n",
       "    <tr>\n",
       "      <th>XGBoost</th>\n",
       "      <td>NaN</td>\n",
       "      <td>NaN</td>\n",
       "      <td>NaN</td>\n",
       "      <td>NaN</td>\n",
       "    </tr>\n",
       "    <tr>\n",
       "      <th>Naive Bayes</th>\n",
       "      <td>0.756565</td>\n",
       "      <td>0.522593</td>\n",
       "      <td>0.726776</td>\n",
       "      <td>0.608</td>\n",
       "    </tr>\n",
       "    <tr>\n",
       "      <th>Logestic Regression</th>\n",
       "      <td>0.803407</td>\n",
       "      <td>0.639498</td>\n",
       "      <td>0.557377</td>\n",
       "      <td>0.59562</td>\n",
       "    </tr>\n",
       "    <tr>\n",
       "      <th>Random Forest</th>\n",
       "      <td>0.802697</td>\n",
       "      <td>0.658273</td>\n",
       "      <td>0.5</td>\n",
       "      <td>0.568323</td>\n",
       "    </tr>\n",
       "    <tr>\n",
       "      <th>XGBoost</th>\n",
       "      <td>0.792051</td>\n",
       "      <td>0.619672</td>\n",
       "      <td>0.516393</td>\n",
       "      <td>0.563338</td>\n",
       "    </tr>\n",
       "  </tbody>\n",
       "</table>\n",
       "</div>"
      ],
      "text/plain": [
       "                     accuracy precision     recal        f1\n",
       "Naive Baves               NaN       NaN       NaN       NaN\n",
       "Logistic Regression       NaN       NaN       NaN       NaN\n",
       "Random Forests            NaN       NaN       NaN       NaN\n",
       "XGBoost                   NaN       NaN       NaN       NaN\n",
       "Naive Bayes          0.756565  0.522593  0.726776     0.608\n",
       "Logestic Regression  0.803407  0.639498  0.557377   0.59562\n",
       "Random Forest        0.802697  0.658273       0.5  0.568323\n",
       "XGBoost              0.792051  0.619672  0.516393  0.563338"
      ]
     },
     "execution_count": 18,
     "metadata": {},
     "output_type": "execute_result"
    }
   ],
   "source": [
    "\n",
    "\n",
    "scores\n",
    "\n"
   ]
  },
  {
   "cell_type": "code",
   "execution_count": null,
   "id": "93fdb4e0",
   "metadata": {},
   "outputs": [],
   "source": [
    "sn.catplot(\n",
    "    data=scores, kind='bar',\n",
    "    y='recal', x='index')\n",
    "plt.xticks(rotation=45)"
   ]
  },
  {
   "cell_type": "code",
   "execution_count": null,
   "id": "974112d9",
   "metadata": {},
   "outputs": [],
   "source": [
    "#Hyperparameter Tuning"
   ]
  },
  {
   "cell_type": "code",
   "execution_count": null,
   "id": "c191897a",
   "metadata": {},
   "outputs": [],
   "source": [
    "RF.get_params()"
   ]
  },
  {
   "cell_type": "code",
   "execution_count": null,
   "id": "17e9672f",
   "metadata": {},
   "outputs": [],
   "source": [
    "from sklearn.model_selection import RandomizedSearchCV\n",
    "\n",
    "n_estimators = [int(x) for x in np.linspace(start=100, stop = 2000,num= 10)]\n",
    "max_features = ['auto', 'sqrt']\n",
    "max_depth = [int(x) for x in np.linspace(2, 102, num = 11)]\n",
    "max_depth.append (None)\n",
    "\n",
    "\n",
    "random_grid = {'n_estimators': n_estimators,\n",
    "               'max_features': max_features,\n",
    "               'max_depth': max_depth}\n"
   ]
  },
  {
   "cell_type": "code",
   "execution_count": null,
   "id": "33324c9f",
   "metadata": {},
   "outputs": [],
   "source": [
    "random_grid"
   ]
  },
  {
   "cell_type": "code",
   "execution_count": null,
   "id": "6b1a3d8a",
   "metadata": {
    "scrolled": true
   },
   "outputs": [],
   "source": [
    "RF_tune = RandomForestClassifier()\n",
    "rf_random = RandomizedSearchCV(estimator = RF_tune, param_distributions= random_grid, n_iter=100, cv=3, verbose=2, random_state=42, n_jobs=-1)\n",
    "rf_random.fit(X_train, y_train)"
   ]
  },
  {
   "cell_type": "code",
   "execution_count": null,
   "id": "a95f4183",
   "metadata": {},
   "outputs": [],
   "source": [
    "best_random = rf_random.best_estimator_ \n",
    "y_pred_RF_tune = best_random.predict(X_test)"
   ]
  },
  {
   "cell_type": "code",
   "execution_count": null,
   "id": "cde6a922",
   "metadata": {},
   "outputs": [],
   "source": [
    "best_random"
   ]
  },
  {
   "cell_type": "code",
   "execution_count": null,
   "id": "75d8c816",
   "metadata": {},
   "outputs": [],
   "source": [
    "scores.loc['Random Forest tune','accuracy'] = accuracy_score(y_test, y_pred_RF_tune)\n",
    "scores.loc['Random Forest tune','precision'] = precision_score(y_test, y_pred_RF_tune)\n",
    "scores.loc ['Random Forest tune','recal'] = recall_score(y_test, y_pred_RF_tune)\n",
    "scores.loc ['Random Forest tune','f1'] = f1_score(y_test, y_pred_RF_tune)\n",
    "scores.loc['Random Forest tune','index']=\"Random Forest tune\"\n",
    "\n",
    "scores = scores.dropna()\n",
    "\n"
   ]
  },
  {
   "cell_type": "code",
   "execution_count": null,
   "id": "512c03b2",
   "metadata": {},
   "outputs": [],
   "source": [
    "scores"
   ]
  },
  {
   "cell_type": "code",
   "execution_count": null,
   "id": "ee953cc2",
   "metadata": {},
   "outputs": [],
   "source": [
    "sn.catplot(\n",
    "    data=scores, kind='bar',\n",
    "    y='recal', x='index')\n",
    "plt.xticks(rotation=45)"
   ]
  },
  {
   "cell_type": "code",
   "execution_count": null,
   "id": "a0d51467",
   "metadata": {},
   "outputs": [],
   "source": [
    "xgb_c1.get_params()"
   ]
  },
  {
   "cell_type": "code",
   "execution_count": null,
   "id": "dbea6750",
   "metadata": {},
   "outputs": [],
   "source": [
    "min_child_weight =[int(x) for x in np.linspace(start = 1, stop = 100, num = 10)] \n",
    "max_depth = [int(x) for x in np.linspace(1, 52, num = 11)] \n",
    "random_grid = {'min_child_weight': min_child_weight, \n",
    "               'max_depth': max_depth}"
   ]
  },
  {
   "cell_type": "code",
   "execution_count": null,
   "id": "ca9a5e75",
   "metadata": {},
   "outputs": [],
   "source": [
    "random_grid"
   ]
  },
  {
   "cell_type": "code",
   "execution_count": null,
   "id": "ff10dea0",
   "metadata": {},
   "outputs": [],
   "source": [
    "xgb_c1_tune = xgb.XGBClassifier()\n",
    "xgb_random = RandomizedSearchCV(estimator =xgb_c1_tune, param_distributions= random_grid, n_iter=100, cv=3, verbose=2, random_state=42, n_jobs=-1)\n",
    "xgb_random.fit(X_train, y_train)"
   ]
  },
  {
   "cell_type": "code",
   "execution_count": null,
   "id": "825e4792",
   "metadata": {},
   "outputs": [],
   "source": [
    "best_xgb_random = xgb_random.best_estimator_ \n",
    "y_pred_XGB_tune = best_xgb_random.predict(X_test)"
   ]
  },
  {
   "cell_type": "code",
   "execution_count": null,
   "id": "4c0a6a6d",
   "metadata": {},
   "outputs": [],
   "source": [
    "best_xgb_random"
   ]
  },
  {
   "cell_type": "code",
   "execution_count": null,
   "id": "8566d313",
   "metadata": {},
   "outputs": [],
   "source": [
    "scores. loc['XGBoost tune','accuracy'] = accuracy_score(y_test, y_pred_XGB_tune)\n",
    "scores.loc['XGBoost tune','precision'] = precision_score(y_test, y_pred_XGB_tune)\n",
    "scores.loc ['XGBoost tune','recal'] = recall_score(y_test, y_pred_XGB_tune)\n",
    "scores. loc ['XGBoost tune','f1'] = f1_score(y_test, y_pred_XGB_tune)\n",
    "scores.loc['XGBoost tune','index']=\"XGBoost tune\"\n",
    "#scores= scores.reset_index()\n",
    "#scores = scores.dropna()"
   ]
  },
  {
   "cell_type": "code",
   "execution_count": null,
   "id": "f3713dbf",
   "metadata": {},
   "outputs": [],
   "source": [
    "#scores = scores.drop('level_0',axis=1)\n",
    "scores"
   ]
  },
  {
   "cell_type": "code",
   "execution_count": null,
   "id": "e13ce6d2",
   "metadata": {},
   "outputs": [],
   "source": [
    "sn.catplot(\n",
    "    data=scores, kind='bar',\n",
    "    y='recal', x='index')\n",
    "plt.xticks(rotation=45)"
   ]
  },
  {
   "cell_type": "markdown",
   "id": "ea60879d",
   "metadata": {},
   "source": [
    "#BEST MODEL is Naive Bayes based on recall"
   ]
  },
  {
   "cell_type": "markdown",
   "id": "b06c8305",
   "metadata": {},
   "source": [
    "#SMOTE TECHNIC"
   ]
  },
  {
   "cell_type": "code",
   "execution_count": null,
   "id": "d83cc4cb",
   "metadata": {},
   "outputs": [],
   "source": [
    "from imblearn.over_sampling import SMOTE\n",
    "sm = SMOTE(random_state=42)\n",
    "X_res, y_res = sm.fit_resample(X_train, y_train)"
   ]
  },
  {
   "cell_type": "code",
   "execution_count": null,
   "id": "804493b0",
   "metadata": {},
   "outputs": [],
   "source": [
    "y_train.describe()"
   ]
  },
  {
   "cell_type": "code",
   "execution_count": null,
   "id": "f023c31b",
   "metadata": {},
   "outputs": [],
   "source": [
    "y_res.describe()"
   ]
  },
  {
   "cell_type": "code",
   "execution_count": null,
   "id": "ffea2c1f",
   "metadata": {},
   "outputs": [],
   "source": [
    "gnb_Smote = GaussianNB()\n",
    "gnb_Smote.fit(X_res, y_res)\n",
    "y_pred_NB_Smote = gnb_Smote.predict(X_test)"
   ]
  },
  {
   "cell_type": "code",
   "execution_count": null,
   "id": "895fedc0",
   "metadata": {},
   "outputs": [],
   "source": [
    "LR_smote = LogisticRegression(random_state=0).fit(X_res, y_res)\n",
    "y_pred_LR_smote = LR_smote.predict(X_test)"
   ]
  },
  {
   "cell_type": "code",
   "execution_count": null,
   "id": "0f9879d0",
   "metadata": {},
   "outputs": [],
   "source": [
    "RF_smote = RandomForestClassifier(random_state=0)\n",
    "RF_smote.fit(X_res, y_res)\n",
    "y_pred_RF_smote = RF_smote.predict(X_test)"
   ]
  },
  {
   "cell_type": "code",
   "execution_count": null,
   "id": "29c5af61",
   "metadata": {},
   "outputs": [],
   "source": [
    "xgb_c1_smote = xgb.XGBClassifier()\n",
    "xgb_c1_smote.fit(X_res, y_res)\n",
    "y_pred_XGB_smote = xgb_c1_smote.predict(X_test)"
   ]
  },
  {
   "cell_type": "code",
   "execution_count": null,
   "id": "282d0563",
   "metadata": {},
   "outputs": [],
   "source": [
    "scores. loc['Naive Bayes smote','accuracy'] = accuracy_score(y_test, y_pred_NB_Smote)\n",
    "scores.loc['Naive Bayes smote','precision'] = precision_score(y_test, y_pred_NB_Smote)\n",
    "scores.loc ['Naive Bayes smote','recal'] = recall_score(y_test, y_pred_NB_Smote)\n",
    "scores. loc ['Naive Bayes smote','f1'] = f1_score(y_test, y_pred_NB_Smote)\n",
    "scores.loc[ 'Naive Bayes smote','index'] = 'Naive Bayes smote'\n",
    "\n",
    "scores. loc['Logestic Regression smote','accuracy'] = accuracy_score(y_test, y_pred_LR_smote)\n",
    "scores.loc['Logestic Regression smote','precision'] = precision_score(y_test, y_pred_LR_smote)\n",
    "scores.loc ['Logestic Regression smote','recal'] = recall_score(y_test, y_pred_LR_smote)\n",
    "scores. loc ['Logestic Regression smote','f1'] = f1_score(y_test, y_pred_LR_smote)\n",
    "scores.loc[ 'Logestic Regression smote','index'] = 'Logestic Regression smote' \n",
    "\n",
    "scores. loc['Random Forest smote','accuracy'] = accuracy_score(y_test, y_pred_RF_smote)\n",
    "scores.loc['Random Forest smote','precision'] = precision_score(y_test, y_pred_RF_smote)\n",
    "scores.loc ['Random Forest smote','recal'] = recall_score(y_test, y_pred_RF_smote)\n",
    "scores. loc ['Random Forest smote','f1'] = f1_score(y_test, y_pred_RF_smote)\n",
    "scores. loc[ 'Random Forest smote','index'] = 'Random Forest smote'\n",
    "\n",
    "scores. loc['XGBoost smote','accuracy'] = accuracy_score(y_test, y_pred_XGB_smote)\n",
    "scores.loc['XGBoost smote','precision'] = precision_score(y_test, y_pred_XGB_smote)\n",
    "scores.loc ['XGBoost smote','recal'] = recall_score(y_test, y_pred_XGB_smote)\n",
    "scores. loc ['XGBoost smote','f1'] = f1_score(y_test, y_pred_XGB_smote)\n",
    "scores. loc[ 'XGBoost smote','index'] = 'XGBoost smote'\n",
    "\n",
    "\n",
    "\n"
   ]
  },
  {
   "cell_type": "code",
   "execution_count": null,
   "id": "ad7f3b4e",
   "metadata": {},
   "outputs": [],
   "source": [
    "scores = scores.dropna()\n",
    "scores \n",
    "\n"
   ]
  },
  {
   "cell_type": "code",
   "execution_count": null,
   "id": "38d77572",
   "metadata": {},
   "outputs": [],
   "source": [
    "sn.catplot(\n",
    "    data=scores, kind='bar',\n",
    "    y='recal', x='index',)\n",
    "plt.xticks(rotation=45)"
   ]
  },
  {
   "cell_type": "code",
   "execution_count": null,
   "id": "4b50dec4",
   "metadata": {},
   "outputs": [],
   "source": []
  }
 ],
 "metadata": {
  "celltoolbar": "Raw Cell Format",
  "kernelspec": {
   "display_name": "Python 3 (ipykernel)",
   "language": "python",
   "name": "python3"
  },
  "language_info": {
   "codemirror_mode": {
    "name": "ipython",
    "version": 3
   },
   "file_extension": ".py",
   "mimetype": "text/x-python",
   "name": "python",
   "nbconvert_exporter": "python",
   "pygments_lexer": "ipython3",
   "version": "3.9.7"
  }
 },
 "nbformat": 4,
 "nbformat_minor": 5
}
